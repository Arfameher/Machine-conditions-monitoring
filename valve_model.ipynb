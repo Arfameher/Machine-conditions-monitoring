{
 "cells": [
  {
   "cell_type": "code",
   "execution_count": 45,
   "id": "48bea12d",
   "metadata": {},
   "outputs": [],
   "source": [
    "import numpy as np\n",
    "import pandas as pd\n",
    "import matplotlib.pyplot as plt\n",
    "from sklearn.model_selection import train_test_split\n",
    "from sklearn.ensemble import RandomForestClassifier\n",
    "import pickle\n",
    "from sklearn.metrics import classification_report"
   ]
  },
  {
   "cell_type": "code",
   "execution_count": 72,
   "id": "53a45822",
   "metadata": {},
   "outputs": [
    {
     "data": {
      "text/html": [
       "<div>\n",
       "<style scoped>\n",
       "    .dataframe tbody tr th:only-of-type {\n",
       "        vertical-align: middle;\n",
       "    }\n",
       "\n",
       "    .dataframe tbody tr th {\n",
       "        vertical-align: top;\n",
       "    }\n",
       "\n",
       "    .dataframe thead th {\n",
       "        text-align: right;\n",
       "    }\n",
       "</style>\n",
       "<table border=\"1\" class=\"dataframe\">\n",
       "  <thead>\n",
       "    <tr style=\"text-align: right;\">\n",
       "      <th></th>\n",
       "      <th>file_name</th>\n",
       "      <th>y_min</th>\n",
       "      <th>y_max</th>\n",
       "      <th>y_mean</th>\n",
       "      <th>y_std</th>\n",
       "      <th>zcr_mean</th>\n",
       "      <th>zcr_min</th>\n",
       "      <th>zcr_max</th>\n",
       "      <th>spec_cent_min</th>\n",
       "      <th>spec_cent_mean</th>\n",
       "      <th>spec_roll_min</th>\n",
       "      <th>spec_roll_mean</th>\n",
       "      <th>rms_mean</th>\n",
       "      <th>flat_mean</th>\n",
       "      <th>flat_max</th>\n",
       "      <th>amp_mean</th>\n",
       "      <th>amp_min</th>\n",
       "      <th>melspec_mean</th>\n",
       "      <th>melspec_std</th>\n",
       "      <th>class</th>\n",
       "    </tr>\n",
       "  </thead>\n",
       "  <tbody>\n",
       "    <tr>\n",
       "      <th>0</th>\n",
       "      <td>0_dB_valve/valve/id_00/normal/00000773.wav</td>\n",
       "      <td>-0.078432</td>\n",
       "      <td>0.083072</td>\n",
       "      <td>2.846902e-06</td>\n",
       "      <td>0.005092</td>\n",
       "      <td>0.027839</td>\n",
       "      <td>0.007812</td>\n",
       "      <td>0.198730</td>\n",
       "      <td>534.462569</td>\n",
       "      <td>842.763456</td>\n",
       "      <td>861.328125</td>\n",
       "      <td>1565.728661</td>\n",
       "      <td>0.004988</td>\n",
       "      <td>0.000133</td>\n",
       "      <td>0.002137</td>\n",
       "      <td>0.012551</td>\n",
       "      <td>0.005413</td>\n",
       "      <td>0.005789</td>\n",
       "      <td>0.034216</td>\n",
       "      <td>0</td>\n",
       "    </tr>\n",
       "    <tr>\n",
       "      <th>1</th>\n",
       "      <td>0_dB_valve/valve/id_00/normal/00000632.wav</td>\n",
       "      <td>-0.074640</td>\n",
       "      <td>0.091593</td>\n",
       "      <td>-7.319340e-07</td>\n",
       "      <td>0.004906</td>\n",
       "      <td>0.077212</td>\n",
       "      <td>0.028809</td>\n",
       "      <td>0.214355</td>\n",
       "      <td>1289.842708</td>\n",
       "      <td>1608.087992</td>\n",
       "      <td>2680.883789</td>\n",
       "      <td>3643.133191</td>\n",
       "      <td>0.004762</td>\n",
       "      <td>0.000488</td>\n",
       "      <td>0.005983</td>\n",
       "      <td>0.014089</td>\n",
       "      <td>0.006951</td>\n",
       "      <td>0.005223</td>\n",
       "      <td>0.029242</td>\n",
       "      <td>0</td>\n",
       "    </tr>\n",
       "    <tr>\n",
       "      <th>2</th>\n",
       "      <td>0_dB_valve/valve/id_00/normal/00000238.wav</td>\n",
       "      <td>-0.067114</td>\n",
       "      <td>0.083659</td>\n",
       "      <td>2.985572e-07</td>\n",
       "      <td>0.005200</td>\n",
       "      <td>0.058272</td>\n",
       "      <td>0.031738</td>\n",
       "      <td>0.200684</td>\n",
       "      <td>893.401721</td>\n",
       "      <td>1333.155533</td>\n",
       "      <td>1819.555664</td>\n",
       "      <td>2813.130631</td>\n",
       "      <td>0.005101</td>\n",
       "      <td>0.000402</td>\n",
       "      <td>0.004332</td>\n",
       "      <td>0.015995</td>\n",
       "      <td>0.008361</td>\n",
       "      <td>0.005700</td>\n",
       "      <td>0.019618</td>\n",
       "      <td>0</td>\n",
       "    </tr>\n",
       "    <tr>\n",
       "      <th>3</th>\n",
       "      <td>0_dB_valve/valve/id_00/normal/00000148.wav</td>\n",
       "      <td>-0.074049</td>\n",
       "      <td>0.082879</td>\n",
       "      <td>-2.335126e-06</td>\n",
       "      <td>0.005244</td>\n",
       "      <td>0.063717</td>\n",
       "      <td>0.033691</td>\n",
       "      <td>0.197754</td>\n",
       "      <td>926.309215</td>\n",
       "      <td>1352.008946</td>\n",
       "      <td>1894.921875</td>\n",
       "      <td>2786.076734</td>\n",
       "      <td>0.005138</td>\n",
       "      <td>0.000408</td>\n",
       "      <td>0.005724</td>\n",
       "      <td>0.016069</td>\n",
       "      <td>0.005512</td>\n",
       "      <td>0.005686</td>\n",
       "      <td>0.017246</td>\n",
       "      <td>0</td>\n",
       "    </tr>\n",
       "    <tr>\n",
       "      <th>4</th>\n",
       "      <td>0_dB_valve/valve/id_00/normal/00000388.wav</td>\n",
       "      <td>-0.064568</td>\n",
       "      <td>0.075072</td>\n",
       "      <td>-7.828104e-08</td>\n",
       "      <td>0.005326</td>\n",
       "      <td>0.069678</td>\n",
       "      <td>0.029297</td>\n",
       "      <td>0.187500</td>\n",
       "      <td>1269.865358</td>\n",
       "      <td>1674.007315</td>\n",
       "      <td>2390.185547</td>\n",
       "      <td>3908.825938</td>\n",
       "      <td>0.005219</td>\n",
       "      <td>0.000483</td>\n",
       "      <td>0.005077</td>\n",
       "      <td>0.015526</td>\n",
       "      <td>0.007869</td>\n",
       "      <td>0.006105</td>\n",
       "      <td>0.029943</td>\n",
       "      <td>0</td>\n",
       "    </tr>\n",
       "  </tbody>\n",
       "</table>\n",
       "</div>"
      ],
      "text/plain": [
       "                                    file_name     y_min     y_max  \\\n",
       "0  0_dB_valve/valve/id_00/normal/00000773.wav -0.078432  0.083072   \n",
       "1  0_dB_valve/valve/id_00/normal/00000632.wav -0.074640  0.091593   \n",
       "2  0_dB_valve/valve/id_00/normal/00000238.wav -0.067114  0.083659   \n",
       "3  0_dB_valve/valve/id_00/normal/00000148.wav -0.074049  0.082879   \n",
       "4  0_dB_valve/valve/id_00/normal/00000388.wav -0.064568  0.075072   \n",
       "\n",
       "         y_mean     y_std  zcr_mean   zcr_min   zcr_max  spec_cent_min  \\\n",
       "0  2.846902e-06  0.005092  0.027839  0.007812  0.198730     534.462569   \n",
       "1 -7.319340e-07  0.004906  0.077212  0.028809  0.214355    1289.842708   \n",
       "2  2.985572e-07  0.005200  0.058272  0.031738  0.200684     893.401721   \n",
       "3 -2.335126e-06  0.005244  0.063717  0.033691  0.197754     926.309215   \n",
       "4 -7.828104e-08  0.005326  0.069678  0.029297  0.187500    1269.865358   \n",
       "\n",
       "   spec_cent_mean  spec_roll_min  spec_roll_mean  rms_mean  flat_mean  \\\n",
       "0      842.763456     861.328125     1565.728661  0.004988   0.000133   \n",
       "1     1608.087992    2680.883789     3643.133191  0.004762   0.000488   \n",
       "2     1333.155533    1819.555664     2813.130631  0.005101   0.000402   \n",
       "3     1352.008946    1894.921875     2786.076734  0.005138   0.000408   \n",
       "4     1674.007315    2390.185547     3908.825938  0.005219   0.000483   \n",
       "\n",
       "   flat_max  amp_mean   amp_min  melspec_mean  melspec_std  class  \n",
       "0  0.002137  0.012551  0.005413      0.005789     0.034216      0  \n",
       "1  0.005983  0.014089  0.006951      0.005223     0.029242      0  \n",
       "2  0.004332  0.015995  0.008361      0.005700     0.019618      0  \n",
       "3  0.005724  0.016069  0.005512      0.005686     0.017246      0  \n",
       "4  0.005077  0.015526  0.007869      0.006105     0.029943      0  "
      ]
     },
     "execution_count": 72,
     "metadata": {},
     "output_type": "execute_result"
    }
   ],
   "source": [
    "df = pd.read_csv(\"valve_features.csv\")\n",
    "df.head()"
   ]
  },
  {
   "cell_type": "code",
   "execution_count": 73,
   "id": "e1308143",
   "metadata": {},
   "outputs": [],
   "source": [
    "# Separate features and target\n",
    "X = df.iloc[:,1:-1]\n",
    "y = df.iloc[:,-1:]"
   ]
  },
  {
   "cell_type": "code",
   "execution_count": 74,
   "id": "980437f2",
   "metadata": {},
   "outputs": [
    {
     "data": {
      "text/plain": [
       "(2919, 1)"
      ]
     },
     "execution_count": 74,
     "metadata": {},
     "output_type": "execute_result"
    }
   ],
   "source": [
    "# Split the data for train and test\n",
    "\n",
    "X_train,X_test,y_train,y_test = train_test_split(X,y,test_size=.3,random_state=1)\n",
    "y_train.shape\n"
   ]
  },
  {
   "cell_type": "code",
   "execution_count": 75,
   "id": "dfbf0b99",
   "metadata": {},
   "outputs": [],
   "source": [
    "# data normalization with sklearn\n",
    "from sklearn.preprocessing import MinMaxScaler\n",
    "\n",
    "# fit scaler on training data\n",
    "norm = MinMaxScaler().fit(X_train)\n",
    "\n",
    "# transform training data\n",
    "X_train_norm = norm.transform(X_train)\n",
    "\n",
    "# transform testing dataabs\n",
    "X_test_norm = norm.transform(X_test)"
   ]
  },
  {
   "cell_type": "code",
   "execution_count": 76,
   "id": "df905504",
   "metadata": {},
   "outputs": [],
   "source": [
    "# data standardization with  sklearn\n",
    "from sklearn.preprocessing import StandardScaler\n",
    "\n",
    "# copy of datasets\n",
    "X_train_stand = X_train.copy()\n",
    "X_test_stand = X_test.copy()\n",
    "\n",
    "# fit on training data column\n",
    "scale = StandardScaler().fit(X_train_stand)\n",
    "    \n",
    "# transform the training data column\n",
    "X_train_stand = scale.transform(X_train_stand)\n",
    "    \n",
    "# transform the testing data column\n",
    "X_test_stand = scale.transform(X_test_stand)"
   ]
  },
  {
   "cell_type": "code",
   "execution_count": 77,
   "id": "61e5d032",
   "metadata": {},
   "outputs": [
    {
     "name": "stderr",
     "output_type": "stream",
     "text": [
      "/home/arfa/anaconda3/envs/sound/lib/python3.8/site-packages/sklearn/neighbors/_classification.py:198: DataConversionWarning: A column-vector y was passed when a 1d array was expected. Please change the shape of y to (n_samples,), for example using ravel().\n",
      "  return self._fit(X, y)\n"
     ]
    },
    {
     "name": "stdout",
     "output_type": "stream",
     "text": [
      "Test accuracy for KNN is: 92.56594724220624\n",
      "\n",
      "Confusion matrix:\n",
      " [[1095    6]\n",
      " [  87   63]]\n",
      "\n",
      " Classification Report: \n",
      "               precision    recall  f1-score   support\n",
      "\n",
      "           0       0.93      0.99      0.96      1101\n",
      "           1       0.91      0.42      0.58       150\n",
      "\n",
      "    accuracy                           0.93      1251\n",
      "   macro avg       0.92      0.71      0.77      1251\n",
      "weighted avg       0.92      0.93      0.91      1251\n",
      "\n"
     ]
    }
   ],
   "source": [
    "# Use a KNN model\n",
    "from sklearn.neighbors import KNeighborsClassifier\n",
    "\n",
    "KNN_model=KNeighborsClassifier(n_neighbors=5)\n",
    "KNN_model.fit(X_train_stand,y_train)\n",
    "y_pred=KNN_model.predict(X_test_stand)\n",
    "\n",
    "# Evaluate your model\n",
    "from sklearn import metrics\n",
    "\n",
    "print('Test accuracy for KNN is:',metrics.accuracy_score(y_test,y_pred)*100)\n",
    "print('\\nConfusion matrix:\\n',metrics.confusion_matrix(y_test,y_pred))\n",
    "print('\\n Classification Report: \\n',metrics.classification_report(y_test,y_pred))\n"
   ]
  },
  {
   "cell_type": "code",
   "execution_count": null,
   "id": "68b9f445",
   "metadata": {},
   "outputs": [],
   "source": []
  },
  {
   "cell_type": "code",
   "execution_count": null,
   "id": "c8bd239e",
   "metadata": {},
   "outputs": [],
   "source": []
  },
  {
   "cell_type": "code",
   "execution_count": null,
   "id": "a0e69a4f",
   "metadata": {},
   "outputs": [],
   "source": []
  },
  {
   "cell_type": "code",
   "execution_count": null,
   "id": "56bce67e",
   "metadata": {},
   "outputs": [],
   "source": []
  },
  {
   "cell_type": "code",
   "execution_count": null,
   "id": "432a530e",
   "metadata": {},
   "outputs": [],
   "source": []
  },
  {
   "cell_type": "code",
   "execution_count": null,
   "id": "5d4f374c",
   "metadata": {},
   "outputs": [],
   "source": []
  },
  {
   "cell_type": "code",
   "execution_count": null,
   "id": "ed10e065",
   "metadata": {},
   "outputs": [],
   "source": []
  },
  {
   "cell_type": "code",
   "execution_count": null,
   "id": "8a5958a6",
   "metadata": {},
   "outputs": [],
   "source": []
  },
  {
   "cell_type": "code",
   "execution_count": null,
   "id": "c22aad0d",
   "metadata": {},
   "outputs": [],
   "source": []
  },
  {
   "cell_type": "code",
   "execution_count": null,
   "id": "a786d8aa",
   "metadata": {},
   "outputs": [],
   "source": []
  },
  {
   "cell_type": "code",
   "execution_count": null,
   "id": "e18ec034",
   "metadata": {},
   "outputs": [],
   "source": []
  },
  {
   "cell_type": "code",
   "execution_count": null,
   "id": "b9414bde",
   "metadata": {},
   "outputs": [],
   "source": []
  },
  {
   "cell_type": "code",
   "execution_count": null,
   "id": "639015a8",
   "metadata": {},
   "outputs": [],
   "source": []
  },
  {
   "cell_type": "markdown",
   "id": "c847c74b",
   "metadata": {},
   "source": [
    "Create a model for it to run"
   ]
  },
  {
   "cell_type": "code",
   "execution_count": 25,
   "id": "d6cb7bf5",
   "metadata": {},
   "outputs": [],
   "source": [
    "import pickle "
   ]
  },
  {
   "cell_type": "code",
   "execution_count": 33,
   "id": "f9e8dd67",
   "metadata": {},
   "outputs": [],
   "source": [
    "filename = 'valve_model.sav'\n",
    "pickle.dump(KNN_model, open(filename, 'wb'))"
   ]
  },
  {
   "cell_type": "code",
   "execution_count": 44,
   "id": "0a601544",
   "metadata": {},
   "outputs": [],
   "source": [
    "# load the model from disk\n",
    "loaded_model = pickle.load(open(filename, 'rb'))\n",
    "result = loaded_model.predict(X_test_stand)"
   ]
  }
 ],
 "metadata": {
  "kernelspec": {
   "display_name": "Python 3 (ipykernel)",
   "language": "python",
   "name": "python3"
  },
  "language_info": {
   "codemirror_mode": {
    "name": "ipython",
    "version": 3
   },
   "file_extension": ".py",
   "mimetype": "text/x-python",
   "name": "python",
   "nbconvert_exporter": "python",
   "pygments_lexer": "ipython3",
   "version": "3.8.12"
  }
 },
 "nbformat": 4,
 "nbformat_minor": 5
}
