{
 "cells": [
  {
   "cell_type": "code",
   "execution_count": 66,
   "id": "75d9e778",
   "metadata": {},
   "outputs": [],
   "source": [
    "import librosa\n",
    "import librosa.display\n",
    "import matplotlib.pyplot as plt\n",
    "import pandas as pd\n",
    "\n",
    "from sklearn import datasets\n",
    "from sklearn.metrics import confusion_matrix\n",
    "from sklearn.ensemble import RandomForestClassifier\n",
    "from sklearn.tree import DecisionTreeClassifier\n",
    "from sklearn.naive_bayes import GaussianNB\n",
    "from sklearn.linear_model import LogisticRegression\n",
    "from sklearn.model_selection import train_test_split\n",
    "from sklearn.preprocessing import StandardScaler\n",
    "from sklearn.preprocessing import LabelEncoder\n",
    "from sklearn.pipeline import Pipeline\n"
   ]
  },
  {
   "cell_type": "code",
   "execution_count": 3,
   "id": "bfb0f372",
   "metadata": {},
   "outputs": [],
   "source": [
    "normal_y, normal_sr = librosa.load('data/fan/id_00/normal/00000000.wav')"
   ]
  },
  {
   "cell_type": "code",
   "execution_count": 4,
   "id": "266fc996",
   "metadata": {},
   "outputs": [],
   "source": [
    "abnormal_y, abnormal_sr = librosa.load('data/fan/id_00/abnormal/00000000.wav')"
   ]
  },
  {
   "cell_type": "code",
   "execution_count": 11,
   "id": "6b287564",
   "metadata": {},
   "outputs": [
    {
     "data": {
      "text/html": [
       "<div>\n",
       "<style scoped>\n",
       "    .dataframe tbody tr th:only-of-type {\n",
       "        vertical-align: middle;\n",
       "    }\n",
       "\n",
       "    .dataframe tbody tr th {\n",
       "        vertical-align: top;\n",
       "    }\n",
       "\n",
       "    .dataframe thead th {\n",
       "        text-align: right;\n",
       "    }\n",
       "</style>\n",
       "<table border=\"1\" class=\"dataframe\">\n",
       "  <thead>\n",
       "    <tr style=\"text-align: right;\">\n",
       "      <th></th>\n",
       "      <th>amplitude</th>\n",
       "      <th>target</th>\n",
       "    </tr>\n",
       "  </thead>\n",
       "  <tbody>\n",
       "    <tr>\n",
       "      <th>0</th>\n",
       "      <td>-0.014585</td>\n",
       "      <td>0</td>\n",
       "    </tr>\n",
       "    <tr>\n",
       "      <th>1</th>\n",
       "      <td>-0.017370</td>\n",
       "      <td>0</td>\n",
       "    </tr>\n",
       "    <tr>\n",
       "      <th>2</th>\n",
       "      <td>-0.015581</td>\n",
       "      <td>0</td>\n",
       "    </tr>\n",
       "    <tr>\n",
       "      <th>3</th>\n",
       "      <td>-0.016613</td>\n",
       "      <td>0</td>\n",
       "    </tr>\n",
       "    <tr>\n",
       "      <th>4</th>\n",
       "      <td>-0.016445</td>\n",
       "      <td>0</td>\n",
       "    </tr>\n",
       "    <tr>\n",
       "      <th>...</th>\n",
       "      <td>...</td>\n",
       "      <td>...</td>\n",
       "    </tr>\n",
       "    <tr>\n",
       "      <th>440995</th>\n",
       "      <td>0.014003</td>\n",
       "      <td>1</td>\n",
       "    </tr>\n",
       "    <tr>\n",
       "      <th>440996</th>\n",
       "      <td>0.011594</td>\n",
       "      <td>1</td>\n",
       "    </tr>\n",
       "    <tr>\n",
       "      <th>440997</th>\n",
       "      <td>0.011231</td>\n",
       "      <td>1</td>\n",
       "    </tr>\n",
       "    <tr>\n",
       "      <th>440998</th>\n",
       "      <td>0.013799</td>\n",
       "      <td>1</td>\n",
       "    </tr>\n",
       "    <tr>\n",
       "      <th>440999</th>\n",
       "      <td>0.009641</td>\n",
       "      <td>1</td>\n",
       "    </tr>\n",
       "  </tbody>\n",
       "</table>\n",
       "<p>441000 rows × 2 columns</p>\n",
       "</div>"
      ],
      "text/plain": [
       "        amplitude  target\n",
       "0       -0.014585       0\n",
       "1       -0.017370       0\n",
       "2       -0.015581       0\n",
       "3       -0.016613       0\n",
       "4       -0.016445       0\n",
       "...           ...     ...\n",
       "440995   0.014003       1\n",
       "440996   0.011594       1\n",
       "440997   0.011231       1\n",
       "440998   0.013799       1\n",
       "440999   0.009641       1\n",
       "\n",
       "[441000 rows x 2 columns]"
      ]
     },
     "execution_count": 11,
     "metadata": {},
     "output_type": "execute_result"
    }
   ],
   "source": [
    "y = [*normal_y,*abnormal_y]\n",
    "df = pd.DataFrame(y,columns=['amplitude'])\n",
    "df['target'] = [0]*len(y)\n",
    "df.loc[:(len(y)/2)-1,'target']=0\n",
    "df.loc[len(y)/2:len(y)-1,'target']=1\n",
    "df"
   ]
  },
  {
   "cell_type": "code",
   "execution_count": 12,
   "id": "64fcc5bf",
   "metadata": {},
   "outputs": [
    {
     "data": {
      "text/plain": [
       "0    220500\n",
       "1    220500\n",
       "Name: target, dtype: int64"
      ]
     },
     "execution_count": 12,
     "metadata": {},
     "output_type": "execute_result"
    }
   ],
   "source": [
    "df['target'].value_counts()\n"
   ]
  },
  {
   "cell_type": "code",
   "execution_count": 47,
   "id": "f6932927",
   "metadata": {},
   "outputs": [],
   "source": [
    "X_train,X_test,y_train,y_test = train_test_split(df.iloc[:,0:1].values,df.iloc[:,1],test_size=0.2)"
   ]
  },
  {
   "cell_type": "code",
   "execution_count": 48,
   "id": "d7d3dc49",
   "metadata": {},
   "outputs": [],
   "source": [
    "pipeline_lr = Pipeline([('scalar1',StandardScaler()),\n",
    "                        ('lr_classifier',LogisticRegression(random_state=0))])"
   ]
  },
  {
   "cell_type": "code",
   "execution_count": 49,
   "id": "63303e63",
   "metadata": {},
   "outputs": [],
   "source": [
    "pipeline_rf = Pipeline([('scalar2',StandardScaler()),\n",
    "                        ('rf_classifier',RandomForestClassifier(n_estimators=int((len(df.columns)**0.5//1)), criterion= 'entropy',random_state=0))])"
   ]
  },
  {
   "cell_type": "code",
   "execution_count": 50,
   "id": "c76f21a1",
   "metadata": {},
   "outputs": [],
   "source": [
    "pipeline_dt = Pipeline([('scalar3',StandardScaler()),\n",
    "                        ('dt_classifier',DecisionTreeClassifier(criterion=\"entropy\",random_state=0))])"
   ]
  },
  {
   "cell_type": "code",
   "execution_count": 51,
   "id": "149815f5",
   "metadata": {},
   "outputs": [],
   "source": [
    "pipeline_GaussianNB = Pipeline([('scalar4',StandardScaler()),\n",
    "                        ('dt_classifier',GaussianNB())])"
   ]
  },
  {
   "cell_type": "code",
   "execution_count": 52,
   "id": "0de0a710",
   "metadata": {},
   "outputs": [],
   "source": [
    "pipelines = [pipeline_lr,pipeline_rf,pipeline_dt,pipeline_GaussianNB]"
   ]
  },
  {
   "cell_type": "code",
   "execution_count": 53,
   "id": "2e2c2a9a",
   "metadata": {},
   "outputs": [],
   "source": [
    "best_accuracy=0.0\n",
    "best_classifier_indx = 0\n",
    "best_pipeline=\"\""
   ]
  },
  {
   "cell_type": "code",
   "execution_count": 54,
   "id": "3af41948",
   "metadata": {},
   "outputs": [],
   "source": [
    "pipe_dict = {0:'Logistic Regression',1:'Random Forest',2:'Decision Tree',3:'GaussianNB'}"
   ]
  },
  {
   "cell_type": "code",
   "execution_count": 55,
   "id": "c5fd7489",
   "metadata": {},
   "outputs": [],
   "source": [
    "for pipe in pipelines:\n",
    "    pipe.fit(X_train,y_train)"
   ]
  },
  {
   "cell_type": "code",
   "execution_count": 56,
   "id": "ba5b0dfb",
   "metadata": {},
   "outputs": [
    {
     "name": "stdout",
     "output_type": "stream",
     "text": [
      "Logistic Regression test accuracy: 0.5177777777777778 \n",
      "Random Forest test accuracy: 0.5062244897959184 \n",
      "Decision Tree test accuracy: 0.5043877551020408 \n",
      "GaussianNB test accuracy: 0.5409297052154195 \n",
      "Classifier with the best accuracy:GaussianNB\n"
     ]
    }
   ],
   "source": [
    "for i,model in enumerate(pipelines):\n",
    "    print(f\"{pipe_dict[i]} test accuracy: {model.score(X_test,y_test)} \")\n",
    "    if model.score(X_test,y_test)>best_accuracy:\n",
    "        best_accuracy=  model.score(X_test,y_test)\n",
    "        best_pipeline=model\n",
    "        best_classifier_idnx = i\n",
    "print(f\"Classifier with the best accuracy:{pipe_dict[best_classifier_idnx]}\")"
   ]
  },
  {
   "cell_type": "code",
   "execution_count": 57,
   "id": "f1072249",
   "metadata": {},
   "outputs": [
    {
     "data": {
      "text/html": [
       "<div>\n",
       "<style scoped>\n",
       "    .dataframe tbody tr th:only-of-type {\n",
       "        vertical-align: middle;\n",
       "    }\n",
       "\n",
       "    .dataframe tbody tr th {\n",
       "        vertical-align: top;\n",
       "    }\n",
       "\n",
       "    .dataframe thead th {\n",
       "        text-align: right;\n",
       "    }\n",
       "</style>\n",
       "<table border=\"1\" class=\"dataframe\">\n",
       "  <thead>\n",
       "    <tr style=\"text-align: right;\">\n",
       "      <th></th>\n",
       "      <th>amplitude</th>\n",
       "      <th>target</th>\n",
       "    </tr>\n",
       "  </thead>\n",
       "  <tbody>\n",
       "    <tr>\n",
       "      <th>0</th>\n",
       "      <td>-0.014585</td>\n",
       "      <td>0</td>\n",
       "    </tr>\n",
       "    <tr>\n",
       "      <th>1</th>\n",
       "      <td>-0.017370</td>\n",
       "      <td>0</td>\n",
       "    </tr>\n",
       "    <tr>\n",
       "      <th>2</th>\n",
       "      <td>-0.015581</td>\n",
       "      <td>0</td>\n",
       "    </tr>\n",
       "    <tr>\n",
       "      <th>3</th>\n",
       "      <td>-0.016613</td>\n",
       "      <td>0</td>\n",
       "    </tr>\n",
       "    <tr>\n",
       "      <th>4</th>\n",
       "      <td>-0.016445</td>\n",
       "      <td>0</td>\n",
       "    </tr>\n",
       "    <tr>\n",
       "      <th>...</th>\n",
       "      <td>...</td>\n",
       "      <td>...</td>\n",
       "    </tr>\n",
       "    <tr>\n",
       "      <th>440995</th>\n",
       "      <td>0.014003</td>\n",
       "      <td>1</td>\n",
       "    </tr>\n",
       "    <tr>\n",
       "      <th>440996</th>\n",
       "      <td>0.011594</td>\n",
       "      <td>1</td>\n",
       "    </tr>\n",
       "    <tr>\n",
       "      <th>440997</th>\n",
       "      <td>0.011231</td>\n",
       "      <td>1</td>\n",
       "    </tr>\n",
       "    <tr>\n",
       "      <th>440998</th>\n",
       "      <td>0.013799</td>\n",
       "      <td>1</td>\n",
       "    </tr>\n",
       "    <tr>\n",
       "      <th>440999</th>\n",
       "      <td>0.009641</td>\n",
       "      <td>1</td>\n",
       "    </tr>\n",
       "  </tbody>\n",
       "</table>\n",
       "<p>441000 rows × 2 columns</p>\n",
       "</div>"
      ],
      "text/plain": [
       "        amplitude  target\n",
       "0       -0.014585       0\n",
       "1       -0.017370       0\n",
       "2       -0.015581       0\n",
       "3       -0.016613       0\n",
       "4       -0.016445       0\n",
       "...           ...     ...\n",
       "440995   0.014003       1\n",
       "440996   0.011594       1\n",
       "440997   0.011231       1\n",
       "440998   0.013799       1\n",
       "440999   0.009641       1\n",
       "\n",
       "[441000 rows x 2 columns]"
      ]
     },
     "execution_count": 57,
     "metadata": {},
     "output_type": "execute_result"
    }
   ],
   "source": [
    "df"
   ]
  },
  {
   "cell_type": "code",
   "execution_count": 69,
   "id": "98f88380",
   "metadata": {},
   "outputs": [],
   "source": [
    "def features_extractor(file):\n",
    "    audio,sample_rate = librosa.load(file,res_tupe = kaiser_fast)\n",
    "    mfccs_features = librosa.feature.mfcc(y=audio,sr=sample_rate,n_mfcc=40)\n",
    "    mfcc_scaled_features = np.mean(mfccs.T,axis=0)\n",
    "    \n",
    "    return mfccs_scaled_features"
   ]
  },
  {
   "cell_type": "code",
   "execution_count": 68,
   "id": "5d2f16f1",
   "metadata": {},
   "outputs": [],
   "source": [
    "import numpy as np\n",
    "from tqdm import tqdm\n",
    "\n",
    "extracted_featurs = []\n",
    "for index_num,row in tqdm(metadata.iterrows()):\n",
    "    file_name = os.path.join(os.path.abspath(audio_dataset_path),'fold'+str() )\n",
    "    final_class_labels = row[\"class\"]\n",
    "    daya = features_extractor(file_name)\n",
    "    extracted_features.append([data,final_class_labels])"
   ]
  },
  {
   "cell_type": "code",
   "execution_count": null,
   "id": "5388ecce",
   "metadata": {},
   "outputs": [],
   "source": [
    "extracted_features_df = pd.DataFrame(extracted_features,columns=['feature','class'])"
   ]
  }
 ],
 "metadata": {
  "kernelspec": {
   "display_name": "Python 3",
   "language": "python",
   "name": "python3"
  },
  "language_info": {
   "codemirror_mode": {
    "name": "ipython",
    "version": 3
   },
   "file_extension": ".py",
   "mimetype": "text/x-python",
   "name": "python",
   "nbconvert_exporter": "python",
   "pygments_lexer": "ipython3",
   "version": "3.8.3"
  }
 },
 "nbformat": 4,
 "nbformat_minor": 5
}
