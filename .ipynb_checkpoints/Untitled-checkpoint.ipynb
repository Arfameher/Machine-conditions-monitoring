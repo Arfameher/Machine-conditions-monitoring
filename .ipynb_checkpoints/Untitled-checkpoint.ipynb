{
 "cells": [
  {
   "cell_type": "code",
   "execution_count": null,
   "id": "aa363aee",
   "metadata": {},
   "outputs": [],
   "source": [
    "from sklearn.pipeline import Pipeline\n",
    "from sklearn.ensemble import RandomForestClassifier\n",
    "from sklearn.tree import DecisionTreeClassifier\n",
    "from sklearn.naive_bayes import GaussianNB\n",
    "from sklearn.linear_model import LogisticRegression\n"
   ]
  },
  {
   "cell_type": "code",
   "execution_count": null,
   "id": "745c0f41",
   "metadata": {},
   "outputs": [],
   "source": [
    "pipeline_lr = Pipeline([('scalar1',StandardScaler()),('lr_classifier',LogisticRegression(random_state=0))])\n",
    "\n",
    "pipeline_rf = Pipeline([('scalar2',StandardScaler()),\n",
    "                        ('rf_classifier',RandomForestClassifier(n_estimators=int((len(df.columns)**0.5//1)), criterion= 'entropy',random_state=0))])\n",
    "\n",
    "pipeline_dt = Pipeline([('scalar3',StandardScaler()),\n",
    "                        ('dt_classifier',DecisionTreeClassifier(criterion=\"entropy\",random_state=0))])\n",
    "\n",
    "pipeline_GaussianNB = Pipeline([('scalar4',StandardScaler()),\n",
    "                        ('dt_classifier',GaussianNB())])\n",
    "\n",
    "pipelines = [pipeline_lr,pipeline_rf,pipeline_dt,pipeline_GaussianNB]\n",
    "\n",
    "best_accuracy=0.0\n",
    "best_classifier_indx = 0\n",
    "best_pipeline=\"\"\n",
    "\n",
    "pipe_dict = {0:'Logistic Regression',1:'Random Forest',2:'Decision Tree',3:'GaussianNB'}\n",
    "\n",
    "for pipe in pipelines:\n",
    "    pipe.fit(X_train,y_train)\n",
    "\n",
    "for i,model in enumerate(pipelines):\n",
    "    print(f\"{pipe_dict[i]} test accuracy: {model.score(X_test,y_test)} \")\n",
    "\n"
   ]
  },
  {
   "cell_type": "code",
   "execution_count": null,
   "id": "e294287b",
   "metadata": {},
   "outputs": [],
   "source": [
    "#['rms_mean','y_max','zcr_max','amp_mean','y_std','y_min']]\n",
    "#'y_max','zcr_max','amp_mean'\n",
    "#'amp_mean','y_std','melspec_mean','rms_mean' ,'melspec_std','y_max'  \n",
    "# 'amp_mean','spec_roll_mean','melspec_std','spec_cent_mean','rms_mean'"
   ]
  },
  {
   "cell_type": "code",
   "execution_count": null,
   "id": "f9ce9aed",
   "metadata": {},
   "outputs": [],
   "source": []
  }
 ],
 "metadata": {
  "kernelspec": {
   "display_name": "Python 3 (ipykernel)",
   "language": "python",
   "name": "python3"
  },
  "language_info": {
   "codemirror_mode": {
    "name": "ipython",
    "version": 3
   },
   "file_extension": ".py",
   "mimetype": "text/x-python",
   "name": "python",
   "nbconvert_exporter": "python",
   "pygments_lexer": "ipython3",
   "version": "3.8.12"
  }
 },
 "nbformat": 4,
 "nbformat_minor": 5
}
