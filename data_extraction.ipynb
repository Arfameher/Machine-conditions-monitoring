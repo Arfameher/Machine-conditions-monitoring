{
 "cells": [
  {
   "cell_type": "code",
   "execution_count": 151,
   "id": "76102f53",
   "metadata": {},
   "outputs": [],
   "source": [
    "import librosa\n",
    "import librosa.display\n",
    "import matplotlib.pyplot as plt\n",
    "import pandas as pd\n",
    "import numpy as np\n",
    "from tqdm import tqdm\n",
    "from glob import glob\n",
    "\n",
    "from sklearn import datasets\n",
    "from sklearn.metrics import roc_curve, auc\n",
    "from sklearn.metrics import confusion_matrix\n",
    "from sklearn.ensemble import RandomForestClassifier\n",
    "from sklearn.tree import DecisionTreeClassifier\n",
    "from sklearn.naive_bayes import GaussianNB\n",
    "from sklearn.linear_model import LogisticRegression\n",
    "from sklearn.model_selection import train_test_split\n",
    "from sklearn.preprocessing import StandardScaler\n",
    "from sklearn.preprocessing import LabelEncoder\n",
    "from sklearn.pipeline import Pipeline"
   ]
  },
  {
   "cell_type": "code",
   "execution_count": 152,
   "id": "01c7ea7f",
   "metadata": {},
   "outputs": [
    {
     "data": {
      "text/plain": [
       "1011"
      ]
     },
     "execution_count": 152,
     "metadata": {},
     "output_type": "execute_result"
    }
   ],
   "source": [
    "data_dir = \"-6dB_fan/fan/id_00/normal\"\n",
    "normal_audio_files = glob(data_dir + '/*.wav')\n",
    "x = len(norm_audio_files)\n",
    "x"
   ]
  },
  {
   "cell_type": "code",
   "execution_count": 153,
   "id": "68e07a11",
   "metadata": {},
   "outputs": [
    {
     "data": {
      "text/plain": [
       "407"
      ]
     },
     "execution_count": 153,
     "metadata": {},
     "output_type": "execute_result"
    }
   ],
   "source": [
    "data_dir = \"-6dB_fan/fan/id_00/abnormal\"\n",
    "abnormal_audio_files = glob(data_dir + '/*.wav')\n",
    "y = len(abnormal_audio_files)\n",
    "y\n"
   ]
  },
  {
   "cell_type": "code",
   "execution_count": 154,
   "id": "f27f4a27",
   "metadata": {},
   "outputs": [],
   "source": [
    "def zero_crossing_rate(file_name):\n",
    "    data, sample_rate = librosa.load(file_name)\n",
    "    zero_crossings = librosa.zero_crossings(data[:1000], pad=False)\n",
    "    return zero_crossings.mean()\n",
    "\n"
   ]
  },
  {
   "cell_type": "code",
   "execution_count": 155,
   "id": "db35d6d8",
   "metadata": {},
   "outputs": [],
   "source": [
    "def rmse(file_name):\n",
    "    data, sample_rate = librosa.load(file_name)\n",
    "    rms_audio = librosa.feature.rms(data)[0]\n",
    "    return rms_audio\n"
   ]
  },
  {
   "cell_type": "code",
   "execution_count": null,
   "id": "ebb1a94a",
   "metadata": {},
   "outputs": [],
   "source": []
  },
  {
   "cell_type": "code",
   "execution_count": 156,
   "id": "1ae23eb2",
   "metadata": {},
   "outputs": [],
   "source": [
    "def spectral_bandwidth(file_name):\n",
    "    data, sample_rate = librosa.load(file_name)\n",
    "    spectral_bandwidth =  librosa.feature.spectral_bandwidth(data, sr=sample_rate)[0]\n",
    "    return spectral_bandwidth\n",
    "\n"
   ]
  },
  {
   "cell_type": "code",
   "execution_count": 157,
   "id": "653e7f9b",
   "metadata": {},
   "outputs": [],
   "source": [
    "def fourier_tempogram(file_name):\n",
    "    data, sample_rate = librosa.load(file_name)\n",
    "    fourier_tempogram =  librosa.feature.fourier_tempogram(data, sr=sample_rate)[0]\n",
    "    return fourier_tempogram"
   ]
  },
  {
   "cell_type": "code",
   "execution_count": 158,
   "id": "a8406462",
   "metadata": {},
   "outputs": [],
   "source": [
    "def spec_rolloff(file_name):\n",
    "    data, sample_rate = librosa.load(file_name)\n",
    "    spectral_rolloff = librosa.feature.spectral_rolloff(data+0.01, sr=sample_rate)[0]\n",
    "    return  spectral_rolloff\n"
   ]
  },
  {
   "cell_type": "code",
   "execution_count": 107,
   "id": "c95fb6c8",
   "metadata": {},
   "outputs": [
    {
     "name": "stderr",
     "output_type": "stream",
     "text": [
      "100%|██████████████████████████████████████████████████████████████████████████████| 1011/1011 [10:58<00:00,  1.53it/s]\n"
     ]
    }
   ],
   "source": [
    "extracted_feature = []\n",
    "for file in tqdm(normal_audio_files):\n",
    "    file_name = file\n",
    "    class_label = 0 # 0 for normal.\n",
    "    zcr = zero_crossing_rate(file_name)\n",
    "    \n",
    "    spec_band= spectral_bandwidth(file_name)\n",
    "    spec_band_min = spec_band.min()\n",
    "    spec_band_max = spec_band.max()\n",
    "    spec_band_mean = spec_band.mean()\n",
    "    spec_band_std = spec_band.std()\n",
    "    \n",
    "    \n",
    "    rmse_mean = rmse(file_name).mean()\n",
    "    \n",
    "    extracted_feature.append([file_name, zcr, spec_band_max, spec_band_min, spec_band_mean, spec_band_std,\n",
    "                              rmse_mean, class_label])"
   ]
  },
  {
   "cell_type": "code",
   "execution_count": null,
   "id": "98277b5f",
   "metadata": {},
   "outputs": [],
   "source": []
  },
  {
   "cell_type": "code",
   "execution_count": null,
   "id": "e5eb94fa",
   "metadata": {},
   "outputs": [],
   "source": []
  },
  {
   "cell_type": "code",
   "execution_count": null,
   "id": "3ecaa4a5",
   "metadata": {},
   "outputs": [],
   "source": []
  },
  {
   "cell_type": "code",
   "execution_count": 130,
   "id": "bd51f00d",
   "metadata": {},
   "outputs": [
    {
     "data": {
      "text/plain": [
       "1871"
      ]
     },
     "execution_count": 130,
     "metadata": {},
     "output_type": "execute_result"
    }
   ],
   "source": []
  },
  {
   "cell_type": "code",
   "execution_count": 162,
   "id": "dbf9b682",
   "metadata": {},
   "outputs": [],
   "source": [
    "spectrum_rolloff_list = []\n"
   ]
  },
  {
   "cell_type": "code",
   "execution_count": 163,
   "id": "e7e640f3",
   "metadata": {},
   "outputs": [
    {
     "name": "stderr",
     "output_type": "stream",
     "text": [
      "100%|██████████████████████████████████████████████████████████████████████████████| 1011/1011 [03:52<00:00,  4.35it/s]\n"
     ]
    }
   ],
   "source": [
    "for file in tqdm(normal_audio_files):\n",
    "    file_name = file\n",
    "    \n",
    "    spec_rolloff_ =  spec_rolloff(file_name)\n",
    "    spec_rolloff_sum = spec_rolloff_.sum()\n",
    "    \n",
    "    \n",
    "    \n",
    "    spectrum_rolloff_list.append(spec_rolloff_sum)"
   ]
  },
  {
   "cell_type": "code",
   "execution_count": 164,
   "id": "fe6d42c4",
   "metadata": {},
   "outputs": [
    {
     "name": "stderr",
     "output_type": "stream",
     "text": [
      "100%|████████████████████████████████████████████████████████████████████████████████| 407/407 [01:38<00:00,  4.13it/s]\n"
     ]
    }
   ],
   "source": [
    "for file in tqdm(abnormal_audio_files):\n",
    "    file_name = file\n",
    "    \n",
    "    spec_rolloff_ =  spec_rolloff(file_name)\n",
    "    spec_rolloff_sum = spec_rolloff_.sum()\n",
    "    \n",
    "    \n",
    "    \n",
    "    spectrum_rolloff_list.append(spec_rolloff_sum)"
   ]
  },
  {
   "cell_type": "code",
   "execution_count": 111,
   "id": "a6deebf7",
   "metadata": {},
   "outputs": [
    {
     "name": "stderr",
     "output_type": "stream",
     "text": [
      "100%|████████████████████████████████████████████████████████████████████████████████| 407/407 [04:31<00:00,  1.50it/s]\n"
     ]
    }
   ],
   "source": [
    "for file in tqdm(abnormal_audio_files):\n",
    "    file_name = file\n",
    "    class_label = 1 # 0 for normal.\n",
    "    zcr = zero_crossing_rate(file_name)\n",
    "    \n",
    "    spec_band= spectral_bandwidth(file_name)\n",
    "    spec_band_min = spec_band.min()\n",
    "    spec_band_max = spec_band.max()\n",
    "    spec_band_mean = spec_band.mean()\n",
    "    spec_band_std = spec_band.std()\n",
    "    \n",
    "    \n",
    "    rmse_mean = rmse(file_name).mean()\n",
    "    \n",
    "    extracted_feature.append([file_name, zcr, spec_band_max, spec_band_min, spec_band_mean, spec_band_std,\n",
    "                              rmse_mean, class_label])"
   ]
  },
  {
   "cell_type": "code",
   "execution_count": 112,
   "id": "3805a9bb",
   "metadata": {},
   "outputs": [],
   "source": [
    "extracted_features_df = pd.DataFrame(extracted_feature,columns=['file_name', 'zcr', 'spec_band_max', 'spec_band_min',\n",
    "                                                                'spec_band_mean', 'spec_band_std', \n",
    "                                                                'rmse_mean', 'class'])"
   ]
  },
  {
   "cell_type": "code",
   "execution_count": 126,
   "id": "060989c7",
   "metadata": {},
   "outputs": [
    {
     "data": {
      "text/html": [
       "<div>\n",
       "<style scoped>\n",
       "    .dataframe tbody tr th:only-of-type {\n",
       "        vertical-align: middle;\n",
       "    }\n",
       "\n",
       "    .dataframe tbody tr th {\n",
       "        vertical-align: top;\n",
       "    }\n",
       "\n",
       "    .dataframe thead th {\n",
       "        text-align: right;\n",
       "    }\n",
       "</style>\n",
       "<table border=\"1\" class=\"dataframe\">\n",
       "  <thead>\n",
       "    <tr style=\"text-align: right;\">\n",
       "      <th></th>\n",
       "      <th>file_name</th>\n",
       "      <th>zcr</th>\n",
       "      <th>spec_band_max</th>\n",
       "      <th>spec_band_min</th>\n",
       "      <th>spec_band_mean</th>\n",
       "      <th>spec_band_std</th>\n",
       "      <th>rmse_mean</th>\n",
       "      <th>class</th>\n",
       "    </tr>\n",
       "  </thead>\n",
       "  <tbody>\n",
       "    <tr>\n",
       "      <th>0</th>\n",
       "      <td>-6dB_fan/fan/id_00/normal\\00000000.wav</td>\n",
       "      <td>0.033</td>\n",
       "      <td>2186.859945</td>\n",
       "      <td>1199.106924</td>\n",
       "      <td>1283.824395</td>\n",
       "      <td>56.193976</td>\n",
       "      <td>0.010253</td>\n",
       "      <td>0</td>\n",
       "    </tr>\n",
       "    <tr>\n",
       "      <th>1</th>\n",
       "      <td>-6dB_fan/fan/id_00/normal\\00000001.wav</td>\n",
       "      <td>0.074</td>\n",
       "      <td>1964.498781</td>\n",
       "      <td>1601.458971</td>\n",
       "      <td>1749.899728</td>\n",
       "      <td>46.057723</td>\n",
       "      <td>0.009026</td>\n",
       "      <td>0</td>\n",
       "    </tr>\n",
       "    <tr>\n",
       "      <th>2</th>\n",
       "      <td>-6dB_fan/fan/id_00/normal\\00000002.wav</td>\n",
       "      <td>0.044</td>\n",
       "      <td>1611.333345</td>\n",
       "      <td>1322.125918</td>\n",
       "      <td>1417.241976</td>\n",
       "      <td>31.888845</td>\n",
       "      <td>0.010177</td>\n",
       "      <td>0</td>\n",
       "    </tr>\n",
       "    <tr>\n",
       "      <th>3</th>\n",
       "      <td>-6dB_fan/fan/id_00/normal\\00000003.wav</td>\n",
       "      <td>0.090</td>\n",
       "      <td>1903.834562</td>\n",
       "      <td>1646.409253</td>\n",
       "      <td>1782.300090</td>\n",
       "      <td>47.540587</td>\n",
       "      <td>0.008910</td>\n",
       "      <td>0</td>\n",
       "    </tr>\n",
       "    <tr>\n",
       "      <th>4</th>\n",
       "      <td>-6dB_fan/fan/id_00/normal\\00000004.wav</td>\n",
       "      <td>0.026</td>\n",
       "      <td>1859.185695</td>\n",
       "      <td>1245.459978</td>\n",
       "      <td>1394.553652</td>\n",
       "      <td>89.329761</td>\n",
       "      <td>0.010531</td>\n",
       "      <td>0</td>\n",
       "    </tr>\n",
       "    <tr>\n",
       "      <th>...</th>\n",
       "      <td>...</td>\n",
       "      <td>...</td>\n",
       "      <td>...</td>\n",
       "      <td>...</td>\n",
       "      <td>...</td>\n",
       "      <td>...</td>\n",
       "      <td>...</td>\n",
       "      <td>...</td>\n",
       "    </tr>\n",
       "    <tr>\n",
       "      <th>1413</th>\n",
       "      <td>-6dB_fan/fan/id_00/abnormal\\00000402.wav</td>\n",
       "      <td>0.060</td>\n",
       "      <td>1991.972897</td>\n",
       "      <td>1016.851359</td>\n",
       "      <td>1368.177800</td>\n",
       "      <td>188.335089</td>\n",
       "      <td>0.009734</td>\n",
       "      <td>1</td>\n",
       "    </tr>\n",
       "    <tr>\n",
       "      <th>1414</th>\n",
       "      <td>-6dB_fan/fan/id_00/abnormal\\00000403.wav</td>\n",
       "      <td>0.070</td>\n",
       "      <td>2016.924958</td>\n",
       "      <td>1288.197948</td>\n",
       "      <td>1534.996473</td>\n",
       "      <td>116.475586</td>\n",
       "      <td>0.010159</td>\n",
       "      <td>1</td>\n",
       "    </tr>\n",
       "    <tr>\n",
       "      <th>1415</th>\n",
       "      <td>-6dB_fan/fan/id_00/abnormal\\00000404.wav</td>\n",
       "      <td>0.038</td>\n",
       "      <td>2010.045068</td>\n",
       "      <td>1247.780494</td>\n",
       "      <td>1346.694567</td>\n",
       "      <td>46.210524</td>\n",
       "      <td>0.010522</td>\n",
       "      <td>1</td>\n",
       "    </tr>\n",
       "    <tr>\n",
       "      <th>1416</th>\n",
       "      <td>-6dB_fan/fan/id_00/abnormal\\00000405.wav</td>\n",
       "      <td>0.029</td>\n",
       "      <td>1917.085187</td>\n",
       "      <td>1162.319349</td>\n",
       "      <td>1318.473823</td>\n",
       "      <td>122.268276</td>\n",
       "      <td>0.010673</td>\n",
       "      <td>1</td>\n",
       "    </tr>\n",
       "    <tr>\n",
       "      <th>1417</th>\n",
       "      <td>-6dB_fan/fan/id_00/abnormal\\00000406.wav</td>\n",
       "      <td>0.045</td>\n",
       "      <td>1659.579716</td>\n",
       "      <td>1257.538127</td>\n",
       "      <td>1350.266162</td>\n",
       "      <td>36.875840</td>\n",
       "      <td>0.010637</td>\n",
       "      <td>1</td>\n",
       "    </tr>\n",
       "  </tbody>\n",
       "</table>\n",
       "<p>1418 rows × 8 columns</p>\n",
       "</div>"
      ],
      "text/plain": [
       "                                     file_name    zcr  spec_band_max  \\\n",
       "0       -6dB_fan/fan/id_00/normal\\00000000.wav  0.033    2186.859945   \n",
       "1       -6dB_fan/fan/id_00/normal\\00000001.wav  0.074    1964.498781   \n",
       "2       -6dB_fan/fan/id_00/normal\\00000002.wav  0.044    1611.333345   \n",
       "3       -6dB_fan/fan/id_00/normal\\00000003.wav  0.090    1903.834562   \n",
       "4       -6dB_fan/fan/id_00/normal\\00000004.wav  0.026    1859.185695   \n",
       "...                                        ...    ...            ...   \n",
       "1413  -6dB_fan/fan/id_00/abnormal\\00000402.wav  0.060    1991.972897   \n",
       "1414  -6dB_fan/fan/id_00/abnormal\\00000403.wav  0.070    2016.924958   \n",
       "1415  -6dB_fan/fan/id_00/abnormal\\00000404.wav  0.038    2010.045068   \n",
       "1416  -6dB_fan/fan/id_00/abnormal\\00000405.wav  0.029    1917.085187   \n",
       "1417  -6dB_fan/fan/id_00/abnormal\\00000406.wav  0.045    1659.579716   \n",
       "\n",
       "      spec_band_min  spec_band_mean  spec_band_std  rmse_mean  class  \n",
       "0       1199.106924     1283.824395      56.193976   0.010253      0  \n",
       "1       1601.458971     1749.899728      46.057723   0.009026      0  \n",
       "2       1322.125918     1417.241976      31.888845   0.010177      0  \n",
       "3       1646.409253     1782.300090      47.540587   0.008910      0  \n",
       "4       1245.459978     1394.553652      89.329761   0.010531      0  \n",
       "...             ...             ...            ...        ...    ...  \n",
       "1413    1016.851359     1368.177800     188.335089   0.009734      1  \n",
       "1414    1288.197948     1534.996473     116.475586   0.010159      1  \n",
       "1415    1247.780494     1346.694567      46.210524   0.010522      1  \n",
       "1416    1162.319349     1318.473823     122.268276   0.010673      1  \n",
       "1417    1257.538127     1350.266162      36.875840   0.010637      1  \n",
       "\n",
       "[1418 rows x 8 columns]"
      ]
     },
     "execution_count": 126,
     "metadata": {},
     "output_type": "execute_result"
    }
   ],
   "source": [
    "extracted_features_df"
   ]
  },
  {
   "cell_type": "code",
   "execution_count": 170,
   "id": "8a078d34",
   "metadata": {},
   "outputs": [
    {
     "data": {
      "text/html": [
       "<div>\n",
       "<style scoped>\n",
       "    .dataframe tbody tr th:only-of-type {\n",
       "        vertical-align: middle;\n",
       "    }\n",
       "\n",
       "    .dataframe tbody tr th {\n",
       "        vertical-align: top;\n",
       "    }\n",
       "\n",
       "    .dataframe thead th {\n",
       "        text-align: right;\n",
       "    }\n",
       "</style>\n",
       "<table border=\"1\" class=\"dataframe\">\n",
       "  <thead>\n",
       "    <tr style=\"text-align: right;\">\n",
       "      <th></th>\n",
       "      <th>file_name</th>\n",
       "      <th>zcr</th>\n",
       "      <th>spec_band_sum</th>\n",
       "      <th>spec_band_max</th>\n",
       "      <th>spec_band_min</th>\n",
       "      <th>spec_band_mean</th>\n",
       "      <th>spec_band_std</th>\n",
       "      <th>rmse_mean</th>\n",
       "      <th>class</th>\n",
       "      <th>spectrum_rolloff_l</th>\n",
       "    </tr>\n",
       "  </thead>\n",
       "  <tbody>\n",
       "    <tr>\n",
       "      <th>0</th>\n",
       "      <td>-6dB_fan/fan/id_00/normal\\00000000.wav</td>\n",
       "      <td>0.033</td>\n",
       "      <td>553328.314402</td>\n",
       "      <td>2186.859945</td>\n",
       "      <td>1199.106924</td>\n",
       "      <td>1283.824395</td>\n",
       "      <td>56.193976</td>\n",
       "      <td>0.010253</td>\n",
       "      <td>0</td>\n",
       "      <td>553328.314402</td>\n",
       "    </tr>\n",
       "    <tr>\n",
       "      <th>1</th>\n",
       "      <td>-6dB_fan/fan/id_00/normal\\00000001.wav</td>\n",
       "      <td>0.074</td>\n",
       "      <td>754206.782847</td>\n",
       "      <td>1964.498781</td>\n",
       "      <td>1601.458971</td>\n",
       "      <td>1749.899728</td>\n",
       "      <td>46.057723</td>\n",
       "      <td>0.009026</td>\n",
       "      <td>0</td>\n",
       "      <td>754206.782847</td>\n",
       "    </tr>\n",
       "    <tr>\n",
       "      <th>2</th>\n",
       "      <td>-6dB_fan/fan/id_00/normal\\00000002.wav</td>\n",
       "      <td>0.044</td>\n",
       "      <td>610831.291691</td>\n",
       "      <td>1611.333345</td>\n",
       "      <td>1322.125918</td>\n",
       "      <td>1417.241976</td>\n",
       "      <td>31.888845</td>\n",
       "      <td>0.010177</td>\n",
       "      <td>0</td>\n",
       "      <td>610831.291691</td>\n",
       "    </tr>\n",
       "    <tr>\n",
       "      <th>3</th>\n",
       "      <td>-6dB_fan/fan/id_00/normal\\00000003.wav</td>\n",
       "      <td>0.090</td>\n",
       "      <td>768171.338788</td>\n",
       "      <td>1903.834562</td>\n",
       "      <td>1646.409253</td>\n",
       "      <td>1782.300090</td>\n",
       "      <td>47.540587</td>\n",
       "      <td>0.008910</td>\n",
       "      <td>0</td>\n",
       "      <td>768171.338788</td>\n",
       "    </tr>\n",
       "    <tr>\n",
       "      <th>4</th>\n",
       "      <td>-6dB_fan/fan/id_00/normal\\00000004.wav</td>\n",
       "      <td>0.026</td>\n",
       "      <td>601052.624223</td>\n",
       "      <td>1859.185695</td>\n",
       "      <td>1245.459978</td>\n",
       "      <td>1394.553652</td>\n",
       "      <td>89.329761</td>\n",
       "      <td>0.010531</td>\n",
       "      <td>0</td>\n",
       "      <td>601052.624223</td>\n",
       "    </tr>\n",
       "    <tr>\n",
       "      <th>...</th>\n",
       "      <td>...</td>\n",
       "      <td>...</td>\n",
       "      <td>...</td>\n",
       "      <td>...</td>\n",
       "      <td>...</td>\n",
       "      <td>...</td>\n",
       "      <td>...</td>\n",
       "      <td>...</td>\n",
       "      <td>...</td>\n",
       "      <td>...</td>\n",
       "    </tr>\n",
       "    <tr>\n",
       "      <th>1413</th>\n",
       "      <td>-6dB_fan/fan/id_00/abnormal\\00000402.wav</td>\n",
       "      <td>0.060</td>\n",
       "      <td>589684.631613</td>\n",
       "      <td>1991.972897</td>\n",
       "      <td>1016.851359</td>\n",
       "      <td>1368.177800</td>\n",
       "      <td>188.335089</td>\n",
       "      <td>0.009734</td>\n",
       "      <td>1</td>\n",
       "      <td>589684.631613</td>\n",
       "    </tr>\n",
       "    <tr>\n",
       "      <th>1414</th>\n",
       "      <td>-6dB_fan/fan/id_00/abnormal\\00000403.wav</td>\n",
       "      <td>0.070</td>\n",
       "      <td>661583.479851</td>\n",
       "      <td>2016.924958</td>\n",
       "      <td>1288.197948</td>\n",
       "      <td>1534.996473</td>\n",
       "      <td>116.475586</td>\n",
       "      <td>0.010159</td>\n",
       "      <td>1</td>\n",
       "      <td>661583.479851</td>\n",
       "    </tr>\n",
       "    <tr>\n",
       "      <th>1415</th>\n",
       "      <td>-6dB_fan/fan/id_00/abnormal\\00000404.wav</td>\n",
       "      <td>0.038</td>\n",
       "      <td>580425.358225</td>\n",
       "      <td>2010.045068</td>\n",
       "      <td>1247.780494</td>\n",
       "      <td>1346.694567</td>\n",
       "      <td>46.210524</td>\n",
       "      <td>0.010522</td>\n",
       "      <td>1</td>\n",
       "      <td>580425.358225</td>\n",
       "    </tr>\n",
       "    <tr>\n",
       "      <th>1416</th>\n",
       "      <td>-6dB_fan/fan/id_00/abnormal\\00000405.wav</td>\n",
       "      <td>0.029</td>\n",
       "      <td>568262.217837</td>\n",
       "      <td>1917.085187</td>\n",
       "      <td>1162.319349</td>\n",
       "      <td>1318.473823</td>\n",
       "      <td>122.268276</td>\n",
       "      <td>0.010673</td>\n",
       "      <td>1</td>\n",
       "      <td>568262.217837</td>\n",
       "    </tr>\n",
       "    <tr>\n",
       "      <th>1417</th>\n",
       "      <td>-6dB_fan/fan/id_00/abnormal\\00000406.wav</td>\n",
       "      <td>0.045</td>\n",
       "      <td>581964.716022</td>\n",
       "      <td>1659.579716</td>\n",
       "      <td>1257.538127</td>\n",
       "      <td>1350.266162</td>\n",
       "      <td>36.875840</td>\n",
       "      <td>0.010637</td>\n",
       "      <td>1</td>\n",
       "      <td>581964.716022</td>\n",
       "    </tr>\n",
       "  </tbody>\n",
       "</table>\n",
       "<p>1418 rows × 10 columns</p>\n",
       "</div>"
      ],
      "text/plain": [
       "                                     file_name    zcr  spec_band_sum  \\\n",
       "0       -6dB_fan/fan/id_00/normal\\00000000.wav  0.033  553328.314402   \n",
       "1       -6dB_fan/fan/id_00/normal\\00000001.wav  0.074  754206.782847   \n",
       "2       -6dB_fan/fan/id_00/normal\\00000002.wav  0.044  610831.291691   \n",
       "3       -6dB_fan/fan/id_00/normal\\00000003.wav  0.090  768171.338788   \n",
       "4       -6dB_fan/fan/id_00/normal\\00000004.wav  0.026  601052.624223   \n",
       "...                                        ...    ...            ...   \n",
       "1413  -6dB_fan/fan/id_00/abnormal\\00000402.wav  0.060  589684.631613   \n",
       "1414  -6dB_fan/fan/id_00/abnormal\\00000403.wav  0.070  661583.479851   \n",
       "1415  -6dB_fan/fan/id_00/abnormal\\00000404.wav  0.038  580425.358225   \n",
       "1416  -6dB_fan/fan/id_00/abnormal\\00000405.wav  0.029  568262.217837   \n",
       "1417  -6dB_fan/fan/id_00/abnormal\\00000406.wav  0.045  581964.716022   \n",
       "\n",
       "      spec_band_max  spec_band_min  spec_band_mean  spec_band_std  rmse_mean  \\\n",
       "0       2186.859945    1199.106924     1283.824395      56.193976   0.010253   \n",
       "1       1964.498781    1601.458971     1749.899728      46.057723   0.009026   \n",
       "2       1611.333345    1322.125918     1417.241976      31.888845   0.010177   \n",
       "3       1903.834562    1646.409253     1782.300090      47.540587   0.008910   \n",
       "4       1859.185695    1245.459978     1394.553652      89.329761   0.010531   \n",
       "...             ...            ...             ...            ...        ...   \n",
       "1413    1991.972897    1016.851359     1368.177800     188.335089   0.009734   \n",
       "1414    2016.924958    1288.197948     1534.996473     116.475586   0.010159   \n",
       "1415    2010.045068    1247.780494     1346.694567      46.210524   0.010522   \n",
       "1416    1917.085187    1162.319349     1318.473823     122.268276   0.010673   \n",
       "1417    1659.579716    1257.538127     1350.266162      36.875840   0.010637   \n",
       "\n",
       "      class  spectrum_rolloff_l  \n",
       "0         0       553328.314402  \n",
       "1         0       754206.782847  \n",
       "2         0       610831.291691  \n",
       "3         0       768171.338788  \n",
       "4         0       601052.624223  \n",
       "...     ...                 ...  \n",
       "1413      1       589684.631613  \n",
       "1414      1       661583.479851  \n",
       "1415      1       580425.358225  \n",
       "1416      1       568262.217837  \n",
       "1417      1       581964.716022  \n",
       "\n",
       "[1418 rows x 10 columns]"
      ]
     },
     "execution_count": 170,
     "metadata": {},
     "output_type": "execute_result"
    }
   ],
   "source": [
    "\n",
    "extracted_features_df['spectrum_rolloff_l'] = spec_band_sum_list\n",
    "extracted_features_df"
   ]
  },
  {
   "cell_type": "code",
   "execution_count": 171,
   "id": "8f473cb8",
   "metadata": {},
   "outputs": [
    {
     "data": {
      "text/html": [
       "<div>\n",
       "<style scoped>\n",
       "    .dataframe tbody tr th:only-of-type {\n",
       "        vertical-align: middle;\n",
       "    }\n",
       "\n",
       "    .dataframe tbody tr th {\n",
       "        vertical-align: top;\n",
       "    }\n",
       "\n",
       "    .dataframe thead th {\n",
       "        text-align: right;\n",
       "    }\n",
       "</style>\n",
       "<table border=\"1\" class=\"dataframe\">\n",
       "  <thead>\n",
       "    <tr style=\"text-align: right;\">\n",
       "      <th></th>\n",
       "      <th>file_name</th>\n",
       "      <th>spectrum_rolloff_l</th>\n",
       "      <th>zcr</th>\n",
       "      <th>spec_band_sum</th>\n",
       "      <th>spec_band_max</th>\n",
       "      <th>spec_band_min</th>\n",
       "      <th>spec_band_mean</th>\n",
       "      <th>spec_band_std</th>\n",
       "      <th>rmse_mean</th>\n",
       "      <th>class</th>\n",
       "    </tr>\n",
       "  </thead>\n",
       "  <tbody>\n",
       "    <tr>\n",
       "      <th>0</th>\n",
       "      <td>-6dB_fan/fan/id_00/normal\\00000000.wav</td>\n",
       "      <td>553328.314402</td>\n",
       "      <td>0.033</td>\n",
       "      <td>553328.314402</td>\n",
       "      <td>2186.859945</td>\n",
       "      <td>1199.106924</td>\n",
       "      <td>1283.824395</td>\n",
       "      <td>56.193976</td>\n",
       "      <td>0.010253</td>\n",
       "      <td>0</td>\n",
       "    </tr>\n",
       "    <tr>\n",
       "      <th>1</th>\n",
       "      <td>-6dB_fan/fan/id_00/normal\\00000001.wav</td>\n",
       "      <td>754206.782847</td>\n",
       "      <td>0.074</td>\n",
       "      <td>754206.782847</td>\n",
       "      <td>1964.498781</td>\n",
       "      <td>1601.458971</td>\n",
       "      <td>1749.899728</td>\n",
       "      <td>46.057723</td>\n",
       "      <td>0.009026</td>\n",
       "      <td>0</td>\n",
       "    </tr>\n",
       "    <tr>\n",
       "      <th>2</th>\n",
       "      <td>-6dB_fan/fan/id_00/normal\\00000002.wav</td>\n",
       "      <td>610831.291691</td>\n",
       "      <td>0.044</td>\n",
       "      <td>610831.291691</td>\n",
       "      <td>1611.333345</td>\n",
       "      <td>1322.125918</td>\n",
       "      <td>1417.241976</td>\n",
       "      <td>31.888845</td>\n",
       "      <td>0.010177</td>\n",
       "      <td>0</td>\n",
       "    </tr>\n",
       "    <tr>\n",
       "      <th>3</th>\n",
       "      <td>-6dB_fan/fan/id_00/normal\\00000003.wav</td>\n",
       "      <td>768171.338788</td>\n",
       "      <td>0.090</td>\n",
       "      <td>768171.338788</td>\n",
       "      <td>1903.834562</td>\n",
       "      <td>1646.409253</td>\n",
       "      <td>1782.300090</td>\n",
       "      <td>47.540587</td>\n",
       "      <td>0.008910</td>\n",
       "      <td>0</td>\n",
       "    </tr>\n",
       "    <tr>\n",
       "      <th>4</th>\n",
       "      <td>-6dB_fan/fan/id_00/normal\\00000004.wav</td>\n",
       "      <td>601052.624223</td>\n",
       "      <td>0.026</td>\n",
       "      <td>601052.624223</td>\n",
       "      <td>1859.185695</td>\n",
       "      <td>1245.459978</td>\n",
       "      <td>1394.553652</td>\n",
       "      <td>89.329761</td>\n",
       "      <td>0.010531</td>\n",
       "      <td>0</td>\n",
       "    </tr>\n",
       "    <tr>\n",
       "      <th>...</th>\n",
       "      <td>...</td>\n",
       "      <td>...</td>\n",
       "      <td>...</td>\n",
       "      <td>...</td>\n",
       "      <td>...</td>\n",
       "      <td>...</td>\n",
       "      <td>...</td>\n",
       "      <td>...</td>\n",
       "      <td>...</td>\n",
       "      <td>...</td>\n",
       "    </tr>\n",
       "    <tr>\n",
       "      <th>1413</th>\n",
       "      <td>-6dB_fan/fan/id_00/abnormal\\00000402.wav</td>\n",
       "      <td>589684.631613</td>\n",
       "      <td>0.060</td>\n",
       "      <td>589684.631613</td>\n",
       "      <td>1991.972897</td>\n",
       "      <td>1016.851359</td>\n",
       "      <td>1368.177800</td>\n",
       "      <td>188.335089</td>\n",
       "      <td>0.009734</td>\n",
       "      <td>1</td>\n",
       "    </tr>\n",
       "    <tr>\n",
       "      <th>1414</th>\n",
       "      <td>-6dB_fan/fan/id_00/abnormal\\00000403.wav</td>\n",
       "      <td>661583.479851</td>\n",
       "      <td>0.070</td>\n",
       "      <td>661583.479851</td>\n",
       "      <td>2016.924958</td>\n",
       "      <td>1288.197948</td>\n",
       "      <td>1534.996473</td>\n",
       "      <td>116.475586</td>\n",
       "      <td>0.010159</td>\n",
       "      <td>1</td>\n",
       "    </tr>\n",
       "    <tr>\n",
       "      <th>1415</th>\n",
       "      <td>-6dB_fan/fan/id_00/abnormal\\00000404.wav</td>\n",
       "      <td>580425.358225</td>\n",
       "      <td>0.038</td>\n",
       "      <td>580425.358225</td>\n",
       "      <td>2010.045068</td>\n",
       "      <td>1247.780494</td>\n",
       "      <td>1346.694567</td>\n",
       "      <td>46.210524</td>\n",
       "      <td>0.010522</td>\n",
       "      <td>1</td>\n",
       "    </tr>\n",
       "    <tr>\n",
       "      <th>1416</th>\n",
       "      <td>-6dB_fan/fan/id_00/abnormal\\00000405.wav</td>\n",
       "      <td>568262.217837</td>\n",
       "      <td>0.029</td>\n",
       "      <td>568262.217837</td>\n",
       "      <td>1917.085187</td>\n",
       "      <td>1162.319349</td>\n",
       "      <td>1318.473823</td>\n",
       "      <td>122.268276</td>\n",
       "      <td>0.010673</td>\n",
       "      <td>1</td>\n",
       "    </tr>\n",
       "    <tr>\n",
       "      <th>1417</th>\n",
       "      <td>-6dB_fan/fan/id_00/abnormal\\00000406.wav</td>\n",
       "      <td>581964.716022</td>\n",
       "      <td>0.045</td>\n",
       "      <td>581964.716022</td>\n",
       "      <td>1659.579716</td>\n",
       "      <td>1257.538127</td>\n",
       "      <td>1350.266162</td>\n",
       "      <td>36.875840</td>\n",
       "      <td>0.010637</td>\n",
       "      <td>1</td>\n",
       "    </tr>\n",
       "  </tbody>\n",
       "</table>\n",
       "<p>1418 rows × 10 columns</p>\n",
       "</div>"
      ],
      "text/plain": [
       "                                     file_name  spectrum_rolloff_l    zcr  \\\n",
       "0       -6dB_fan/fan/id_00/normal\\00000000.wav       553328.314402  0.033   \n",
       "1       -6dB_fan/fan/id_00/normal\\00000001.wav       754206.782847  0.074   \n",
       "2       -6dB_fan/fan/id_00/normal\\00000002.wav       610831.291691  0.044   \n",
       "3       -6dB_fan/fan/id_00/normal\\00000003.wav       768171.338788  0.090   \n",
       "4       -6dB_fan/fan/id_00/normal\\00000004.wav       601052.624223  0.026   \n",
       "...                                        ...                 ...    ...   \n",
       "1413  -6dB_fan/fan/id_00/abnormal\\00000402.wav       589684.631613  0.060   \n",
       "1414  -6dB_fan/fan/id_00/abnormal\\00000403.wav       661583.479851  0.070   \n",
       "1415  -6dB_fan/fan/id_00/abnormal\\00000404.wav       580425.358225  0.038   \n",
       "1416  -6dB_fan/fan/id_00/abnormal\\00000405.wav       568262.217837  0.029   \n",
       "1417  -6dB_fan/fan/id_00/abnormal\\00000406.wav       581964.716022  0.045   \n",
       "\n",
       "      spec_band_sum  spec_band_max  spec_band_min  spec_band_mean  \\\n",
       "0     553328.314402    2186.859945    1199.106924     1283.824395   \n",
       "1     754206.782847    1964.498781    1601.458971     1749.899728   \n",
       "2     610831.291691    1611.333345    1322.125918     1417.241976   \n",
       "3     768171.338788    1903.834562    1646.409253     1782.300090   \n",
       "4     601052.624223    1859.185695    1245.459978     1394.553652   \n",
       "...             ...            ...            ...             ...   \n",
       "1413  589684.631613    1991.972897    1016.851359     1368.177800   \n",
       "1414  661583.479851    2016.924958    1288.197948     1534.996473   \n",
       "1415  580425.358225    2010.045068    1247.780494     1346.694567   \n",
       "1416  568262.217837    1917.085187    1162.319349     1318.473823   \n",
       "1417  581964.716022    1659.579716    1257.538127     1350.266162   \n",
       "\n",
       "      spec_band_std  rmse_mean  class  \n",
       "0         56.193976   0.010253      0  \n",
       "1         46.057723   0.009026      0  \n",
       "2         31.888845   0.010177      0  \n",
       "3         47.540587   0.008910      0  \n",
       "4         89.329761   0.010531      0  \n",
       "...             ...        ...    ...  \n",
       "1413     188.335089   0.009734      1  \n",
       "1414     116.475586   0.010159      1  \n",
       "1415      46.210524   0.010522      1  \n",
       "1416     122.268276   0.010673      1  \n",
       "1417      36.875840   0.010637      1  \n",
       "\n",
       "[1418 rows x 10 columns]"
      ]
     },
     "execution_count": 171,
     "metadata": {},
     "output_type": "execute_result"
    }
   ],
   "source": [
    "new_cols =['file_name','spectrum_rolloff_l', 'zcr','spec_band_sum', 'spec_band_max', 'spec_band_min','spec_band_mean', 'spec_band_std','rmse_mean', 'class']\n",
    "extracted_features_df=extracted_features_df[new_cols]\n",
    "extracted_features_df"
   ]
  },
  {
   "cell_type": "code",
   "execution_count": 140,
   "id": "18ea1274",
   "metadata": {},
   "outputs": [],
   "source": [
    "extracted_features_df.to_csv('csv_files/fan_id_00_normal.csv',index=False)"
   ]
  },
  {
   "cell_type": "code",
   "execution_count": 172,
   "id": "22a5514b",
   "metadata": {},
   "outputs": [
    {
     "name": "stdout",
     "output_type": "stream",
     "text": [
      "spectrum_rolloff_l: -0.06542224939287414, threshold:0.1, boolean:False\n",
      "zcr: -0.10930470303878594, threshold:0.1, boolean:True\n",
      "spec_band_sum: -0.06542224939287414, threshold:0.1, boolean:False\n",
      "spec_band_max: -0.01146899120094138, threshold:0.1, boolean:False\n",
      "spec_band_min: -0.07141624528573425, threshold:0.1, boolean:False\n",
      "spec_band_mean: -0.06542224939287417, threshold:0.1, boolean:False\n",
      "spec_band_std: 0.020540837931132618, threshold:0.1, boolean:False\n",
      "rmse_mean: 0.4354967426676065, threshold:0.1, boolean:True\n"
     ]
    }
   ],
   "source": [
    "def filter_features(df,y,treshold=0.10):\n",
    "    relevant_features_indx = []\n",
    "    for i in range(len(df.columns)):\n",
    "        print(f\"{df.columns[i]}: {np.corrcoef(df.values[:,i],np.reshape(y,-1))[1][0]}, threshold:{treshold}, boolean:{abs(np.corrcoef(df.values[:,i],np.reshape(y,-1))[1][0]) >treshold}\")\n",
    "        if abs(np.corrcoef(df.values[:,i],np.reshape(y,-1))[1][0]) >treshold:\n",
    "            relevant_features_indx.append(i)\n",
    "    return relevant_features_indx\n",
    "\n",
    "f_cols = filter_features(extracted_features_df.iloc[:,1:-1],extracted_features_df.iloc[:,-1].values,treshold=0.10)"
   ]
  },
  {
   "cell_type": "code",
   "execution_count": 174,
   "id": "0049a89d",
   "metadata": {},
   "outputs": [],
   "source": [
    "X_train, X_test, y_train, y_test = train_test_split(extracted_features_df.iloc[:,1:-1].values, extracted_features_df.iloc[:,-1].values, test_size=0.3, random_state=42)"
   ]
  },
  {
   "cell_type": "code",
   "execution_count": 175,
   "id": "c8b50d4a",
   "metadata": {},
   "outputs": [],
   "source": [
    "pipeline_lr = Pipeline([('scalar1',StandardScaler()),\n",
    "                        ('lr_classifier',LogisticRegression(random_state=0))])"
   ]
  },
  {
   "cell_type": "code",
   "execution_count": 177,
   "id": "0ad800c1",
   "metadata": {},
   "outputs": [],
   "source": [
    "pipeline_rf = Pipeline([('scalar2',StandardScaler()),\n",
    "                        ('rf_classifier',RandomForestClassifier(n_estimators=int((len(extracted_features_df.columns)**0.5//1)), criterion= 'entropy',random_state=0))])"
   ]
  },
  {
   "cell_type": "code",
   "execution_count": 178,
   "id": "a07b11da",
   "metadata": {},
   "outputs": [],
   "source": [
    "pipeline_dt = Pipeline([('scalar3',StandardScaler()),\n",
    "                        ('dt_classifier',DecisionTreeClassifier(criterion=\"entropy\",random_state=0))])"
   ]
  },
  {
   "cell_type": "code",
   "execution_count": 179,
   "id": "adc4f42c",
   "metadata": {},
   "outputs": [],
   "source": [
    "pipeline_GaussianNB = Pipeline([('scalar4',StandardScaler()),\n",
    "                        ('dt_classifier',GaussianNB())])"
   ]
  },
  {
   "cell_type": "code",
   "execution_count": 180,
   "id": "7f0bd0d7",
   "metadata": {},
   "outputs": [],
   "source": [
    "pipelines = [pipeline_lr,pipeline_rf,pipeline_dt,pipeline_GaussianNB]"
   ]
  },
  {
   "cell_type": "code",
   "execution_count": 181,
   "id": "5e59b4fb",
   "metadata": {},
   "outputs": [],
   "source": [
    "pipe_dict = {0:'Logistic Regression',1:'Random Forest',2:'Decision Tree',3:'GaussianNB'}"
   ]
  },
  {
   "cell_type": "code",
   "execution_count": 182,
   "id": "c5213351",
   "metadata": {},
   "outputs": [],
   "source": [
    "for pipe in pipelines:\n",
    "    pipe.fit(X_train,y_train)"
   ]
  },
  {
   "cell_type": "code",
   "execution_count": 184,
   "id": "ebc83be8",
   "metadata": {},
   "outputs": [],
   "source": [
    "best_accuracy=0.0\n",
    "best_classifier_indx = 0\n",
    "best_pipeline=\"\""
   ]
  },
  {
   "cell_type": "code",
   "execution_count": 185,
   "id": "2dcedf0f",
   "metadata": {},
   "outputs": [
    {
     "name": "stdout",
     "output_type": "stream",
     "text": [
      "Logistic Regression test accuracy: 0.8286384976525821 \n",
      "Random Forest test accuracy: 0.7629107981220657 \n",
      "Decision Tree test accuracy: 0.7511737089201878 \n",
      "GaussianNB test accuracy: 0.8286384976525821 \n",
      "Classifier with the best accuracy:Logistic Regression\n"
     ]
    }
   ],
   "source": [
    "for i,model in enumerate(pipelines):\n",
    "    print(f\"{pipe_dict[i]} test accuracy: {model.score(X_test,y_test)} \")\n",
    "    if model.score(X_test,y_test)>best_accuracy:\n",
    "        best_accuracy=  model.score(X_test,y_test)\n",
    "        best_pipeline=model\n",
    "        best_classifier_idnx = i\n",
    "print(f\"Classifier with the best accuracy:{pipe_dict[best_classifier_idnx]}\")"
   ]
  },
  {
   "cell_type": "code",
   "execution_count": 190,
   "id": "ecc11c00",
   "metadata": {},
   "outputs": [
    {
     "data": {
      "text/plain": [
       "0.8286384976525821"
      ]
     },
     "execution_count": 190,
     "metadata": {},
     "output_type": "execute_result"
    }
   ],
   "source": [
    "pipelines[0].fit(X_train,y_train)\n",
    "pipelines[0].score(X_test,y_test)\n"
   ]
  },
  {
   "cell_type": "code",
   "execution_count": 193,
   "id": "bdc4906d",
   "metadata": {},
   "outputs": [
    {
     "data": {
      "text/plain": [
       "407"
      ]
     },
     "execution_count": 193,
     "metadata": {},
     "output_type": "execute_result"
    }
   ],
   "source": [
    "y"
   ]
  },
  {
   "cell_type": "code",
   "execution_count": null,
   "id": "f9defd91",
   "metadata": {},
   "outputs": [],
   "source": []
  }
 ],
 "metadata": {
  "kernelspec": {
   "display_name": "Python 3 (ipykernel)",
   "language": "python",
   "name": "python3"
  },
  "language_info": {
   "codemirror_mode": {
    "name": "ipython",
    "version": 3
   },
   "file_extension": ".py",
   "mimetype": "text/x-python",
   "name": "python",
   "nbconvert_exporter": "python",
   "pygments_lexer": "ipython3",
   "version": "3.8.12"
  }
 },
 "nbformat": 4,
 "nbformat_minor": 5
}
