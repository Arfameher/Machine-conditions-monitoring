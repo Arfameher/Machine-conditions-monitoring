{
 "cells": [
  {
   "cell_type": "code",
   "execution_count": null,
   "id": "5bb02ae6",
   "metadata": {},
   "outputs": [],
   "source": [
    "import "
   ]
  },
  {
   "cell_type": "code",
   "execution_count": null,
   "id": "e2313a70",
   "metadata": {},
   "outputs": [],
   "source": []
  },
  {
   "cell_type": "code",
   "execution_count": null,
   "id": "0fd30d44",
   "metadata": {},
   "outputs": [],
   "source": [
    "file_name = input(\"Enter the path to filename : \")\n",
    "def get_features():\n",
    "    file"
   ]
  },
  {
   "cell_type": "code",
   "execution_count": null,
   "id": "4a26c114",
   "metadata": {},
   "outputs": [],
   "source": []
  }
 ],
 "metadata": {
  "kernelspec": {
   "display_name": "Python 3 (ipykernel)",
   "language": "python",
   "name": "python3"
  },
  "language_info": {
   "codemirror_mode": {
    "name": "ipython",
    "version": 3
   },
   "file_extension": ".py",
   "mimetype": "text/x-python",
   "name": "python",
   "nbconvert_exporter": "python",
   "pygments_lexer": "ipython3",
   "version": "3.8.12"
  }
 },
 "nbformat": 4,
 "nbformat_minor": 5
}
